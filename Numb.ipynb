{
  "nbformat": 4,
  "nbformat_minor": 0,
  "metadata": {
    "colab": {
      "provenance": [],
      "authorship_tag": "ABX9TyOd09MjDmi7dPaeJAR9hxT3"
    },
    "kernelspec": {
      "name": "python3",
      "display_name": "Python 3"
    },
    "language_info": {
      "name": "python"
    }
  },
  "cells": [
    {
      "cell_type": "code",
      "execution_count": null,
      "metadata": {
        "id": "ZplhdcVEkozU"
      },
      "outputs": [],
      "source": [
        "\n",
        "import random\n",
        "guesses_made = 0\n",
        "name = input('Привет! Как тебя зовут?\\n')\n",
        "number = random.randint(1,100)\n",
        "print ('Отлично, {0}, я загадал число в диапазоне от 1 до 100. Сможешь угадать?' .format(name))\n",
        "while guesses_made < random.randint(4,10):\n",
        "  guess = int(input('Ввели число: '))\n",
        "  guesses_made += 1\n",
        "  if guess < number:\n",
        "    print ('Твоё число меньше того, что я загадал.')\n",
        "  if guess > number:\n",
        "    print ('Твоё число больше загаданного мной.')\n",
        "  if guess == number:\n",
        "    break\n",
        "if guess == number:\n",
        "  print ('Ух ты, {0}! Ты угадал мое число, использовав {1} попыток!' .format(name, guesses_made))\n",
        "else:\n",
        "  print ('А вот и не угадал! Я загадал число {0}' .format(number))"
      ]
    }
  ]
}